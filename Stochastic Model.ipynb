{
 "cells": [
  {
   "cell_type": "code",
   "execution_count": 1,
   "metadata": {},
   "outputs": [],
   "source": [
    "import numpy as np\n",
    "import matplotlib.pyplot as plt\n",
    "from scipy.integrate import odeint"
   ]
  },
  {
   "cell_type": "code",
   "execution_count": 2,
   "metadata": {},
   "outputs": [],
   "source": [
    "# Parameters #\n",
    "\n",
    "r_R = 5 \n",
    "p = 0.975\n",
    "K_R = 2500\n",
    "d_R = 0.2\n",
    "beta = 4.7\n",
    "m = 20\n",
    "g = 0.02\n",
    "a = 0.004\n",
    "r_F = 20\n",
    "d_F = 10\n",
    "K_F = 6.57"
   ]
  },
  {
   "cell_type": "code",
   "execution_count": 63,
   "metadata": {},
   "outputs": [],
   "source": [
    "# The Model #\n",
    "\n",
    "def f(X, t):\n",
    "    \n",
    "    S = int(X[0])\n",
    "    I = int(X[1])\n",
    "    R = int(X[2])\n",
    "    N = X[3]\n",
    "    F = int(X[4])\n",
    "    \n",
    "    T = S+I+R\n",
    "    \n",
    "    # rates #\n",
    "    \n",
    "    birth_S_from_R = r_R*R*(1-p) #S+1\n",
    "    \n",
    "    birth_S_pos = max(r_R*S*(1-T/K_R), 0) #S+1 if positive, 0 if negative\n",
    "    birth_R_pos = max(r_R*R*(p-T/K_R), 0) #R+1 if positive, 0 if negative\n",
    "    birth_N_pos = max(r_F*N*(1-N/K_F)*T, 0) #N+(1/T) if positive, 0 if negative\n",
    "    \n",
    "    birth_S_neg = -min(r_R*S*(1-T/K_R), 0) #0 if positive, S-1 if negative\n",
    "    birth_R_neg = -min(r_R*R*(p-T/K_R), 0) #0 if positive, R-1 if negative\n",
    "    birth_N_neg = -min(r_F*N*(1-N/K_F)*T, 0) #0 if positive, N-(1/T) if negative\n",
    "    \n",
    "    death_S = d_R*S #S-1\n",
    "    death_I = d_R*I #I-1, F+N\n",
    "    death_R = d_R*R #R-1\n",
    "    death_F = d_F*F #F-1\n",
    "    \n",
    "    recovery = m*g*I #I-1, R+1\n",
    "    disease_death = m*(1-g)*I #I-1, F+N\n",
    "    \n",
    "    new_host_no_infection = (d_F-beta*S/T)*F*(1-np.exp(-a*T)) #N+(1/T)\n",
    "    new_host_with_infection = beta*S*F*(1-np.exp(-a*T))/T #S-1, I+1, N+(1/T)\n",
    "    \n",
    "    \n",
    "    overall_rate = (birth_S_from_R \n",
    "                    + birth_S_pos + birth_R_pos + birth_N_pos \n",
    "                    + birth_S_neg + birth_R_neg + birth_N_neg \n",
    "                    + death_S + death_I + death_R + death_F\n",
    "                    + recovery + disease_death \n",
    "                    + new_host_no_infection + new_host_with_infection)\n",
    "    \n",
    "    prob = (1/overall_rate)*np.array([birth_S_from_R, \n",
    "                                      birth_S_pos, birth_R_pos, birth_N_pos,\n",
    "                                      birth_S_neg, birth_R_neg, birth_N_neg, \n",
    "                                      death_S, death_I, death_R, death_F, \n",
    "                                      recovery, disease_death, \n",
    "                                      new_host_no_infection, new_host_with_infection])\n",
    "    \n",
    "    for i in range(len(prob)):\n",
    "        if prob[i]<0: print(prob[i], i, F)\n",
    "    \n",
    "    # random interevent time #\n",
    "    \n",
    "    dt = np.random.exponential(1/overall_rate)\n",
    "    \n",
    "    # random event #\n",
    "    \n",
    "    event_index = np.random.choice(15, p=prob)\n",
    "    \n",
    "    events = ([[S+1, I, R, N, F, t+dt], \n",
    "               [S+1, I, R, N, F, t+dt], [S, I, R+1, N, F, t+dt], [S, I, R, N+(1/T), F, t+dt], \n",
    "               [S-1, I, R, N, F, t+dt], [S, I, R-1, N, F, t+dt], [S, I, R, N-(1/T), F, t+dt], \n",
    "               [S-1, I, R, N, F, t+dt], [S, I-1, R, N, F+N, t+dt], [S, I, R-1, N, F, t+dt], [S, I, R, N, F-1, t+dt], \n",
    "               [S, I-1, R+1, N, F, t+dt], [S, I-1, R, N, F+N, t+dt], \n",
    "               [S, I, R, N+1/T, F, t+dt], [S-1, I+1, R, N+1/T, F, t+dt]])\n",
    "    \n",
    "    for i in range(15):\n",
    "        if event_index == i: return events[i]"
   ]
  },
  {
   "cell_type": "code",
   "execution_count": 78,
   "metadata": {},
   "outputs": [],
   "source": [
    "# Initial Conditions #\n",
    "\n",
    "S_0 = 2500\n",
    "I_0 = 0\n",
    "R_0 = 0\n",
    "N_0 = 6.57\n",
    "F_0 = 10\n",
    "\n",
    "X_0=[S_0, I_0, R_0, N_0, F_0]"
   ]
  },
  {
   "cell_type": "code",
   "execution_count": 80,
   "metadata": {},
   "outputs": [],
   "source": [
    "# Number of simulations #\n",
    "\n",
    "m=3\n",
    "\n",
    "# Time threshold\n",
    "\n",
    "t_max = 20"
   ]
  },
  {
   "cell_type": "code",
   "execution_count": 81,
   "metadata": {},
   "outputs": [
    {
     "name": "stdout",
     "output_type": "stream",
     "text": [
      "CPU times: user 3min 59s, sys: 28.6 s, total: 4min 28s\n",
      "Wall time: 4min 30s\n"
     ]
    },
    {
     "data": {
      "image/png": "[encoded data removed]",
      "text/plain": [
       "<Figure size 432x288 with 1 Axes>"
      ]
     },
     "metadata": {
      "needs_background": "light"
     },
     "output_type": "display_data"
    }
   ],
   "source": [
    "%%time\n",
    "\n",
    "#Stochastic Solution #\n",
    "\n",
    "for i in range(m):\n",
    "    \n",
    "    S = np.array([S_0])\n",
    "    I = np.array([I_0])\n",
    "    R = np.array([R_0])\n",
    "    N = np.array([N_0])\n",
    "    F = np.array([F_0])\n",
    "    t = np.array([0])\n",
    "    \n",
    "    while t[-1] < t_max:\n",
    "        \n",
    "        X = [S[-1], I[-1], R[-1], N[-1], F[-1]]\n",
    "        \n",
    "        [newS, newI, newR, newN, newF, newt] = f(X, t[-1])\n",
    "        \n",
    "        S = np.append(S, newS)\n",
    "        I = np.append(I, newI)\n",
    "        R = np.append(R, newR)\n",
    "        N = np.append(N, newN)\n",
    "        F = np.append(F, newF)\n",
    "        t = np.append(t, newt)\n",
    "        \n",
    "    plt.plot(t,I)"
   ]
  },
  {
   "cell_type": "code",
   "execution_count": null,
   "metadata": {},
   "outputs": [],
   "source": []
  }
 ],
 "metadata": {
  "kernelspec": {
   "display_name": "Python 3",
   "language": "python",
   "name": "python3"
  },
  "language_info": {
   "codemirror_mode": {
    "name": "ipython",
    "version": 3
   },
   "file_extension": ".py",
   "mimetype": "text/x-python",
   "name": "python",
   "nbconvert_exporter": "python",
   "pygments_lexer": "ipython3",
   "version": "3.7.6"
  }
 },
 "nbformat": 4,
 "nbformat_minor": 4
}
