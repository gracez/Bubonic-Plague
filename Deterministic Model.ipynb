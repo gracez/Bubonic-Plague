{
 "cells": [
  {
   "cell_type": "code",
   "execution_count": 1,
   "metadata": {},
   "outputs": [],
   "source": [
    "import numpy as np\n",
    "import matplotlib.pyplot as plt\n",
    "from scipy.integrate import odeint"
   ]
  },
  {
   "cell_type": "code",
   "execution_count": 2,
   "metadata": {},
   "outputs": [],
   "source": [
    "# The Model #\n",
    "\n",
    "def dX_dt(X,t):\n",
    "    \n",
    "    S = X[0]\n",
    "    I = X[1]\n",
    "    R = X[2]\n",
    "    N = X[3]\n",
    "    F = X[4]\n",
    "    \n",
    "    T = S+I+R\n",
    "    \n",
    "    # Original model from paper #\n",
    "    \n",
    "    dS = r_R*S*(1-T/K_R)+r_R*R*(1-p)-d_R*S-beta*S*F*(1-np.exp(-a*T))/T\n",
    "    dI = beta*S*F*(1-np.exp(-a*T))/T - d_R*I - m*I\n",
    "    dR = r_R*R*(1-T/K_R)+m*g*I-d_R*R\n",
    "    dN = r_F*N*(1-N/K_F) + d_F*F*(1-np.exp(-a*T))/T\n",
    "    dF = (d_R + m*(1-g))*I*N - d_F*F\n",
    "    \n",
    "    # What I feel like the model should be ?? #\n",
    "    \n",
    "#     dS = r_R*S*(1-T/K_R)+r_R*R*(1-p)*(1-T/K_R)-d_R*S-beta*S*F*(1-np.exp(-a*T))/T\n",
    "#     dI = beta*S*F*(1-np.exp(-a*T))/T - d_R*I - m*I\n",
    "#     dR = r_R*R*p*(1-T/K_R)+m*g*I-d_R*R\n",
    "    \n",
    "#     dN = r_F*N*(1-N/K_F) + F*(1-np.exp(-a*T))/T\n",
    "#     dF = (d_R + m*(1-g))*I*N - d_F*F    \n",
    "    \n",
    "    \n",
    "    return [dS, dI, dR, dN, dF]"
   ]
  },
  {
   "cell_type": "code",
   "execution_count": 3,
   "metadata": {},
   "outputs": [],
   "source": [
    "# Parameters #\n",
    "\n",
    "r_R = 5 \n",
    "p = 0.975\n",
    "K_R = 2500\n",
    "d_R = 0.2\n",
    "beta = 4.7\n",
    "m = 20\n",
    "g = 0.02\n",
    "a = 0.004\n",
    "r_F = 20\n",
    "d_F = 10\n",
    "K_F = 6.57"
   ]
  },
  {
   "cell_type": "code",
   "execution_count": 4,
   "metadata": {},
   "outputs": [],
   "source": [
    "# Initial Conditions #\n",
    "\n",
    "S_0 = 2500\n",
    "I_0 = 0\n",
    "R_0 = 0\n",
    "N_0 = 6.57\n",
    "F_0 = 1\n",
    "\n",
    "X_0=[S_0, I_0, R_0, N_0, F_0]"
   ]
  },
  {
   "cell_type": "code",
   "execution_count": 5,
   "metadata": {},
   "outputs": [],
   "source": [
    "# Solving the ODE #\n",
    "\n",
    "# numerical time steps (time start, time end, number steps)\n",
    "t=np.linspace(0,100,10000)\n",
    "\n",
    "# numerically integrate the ode\n",
    "ans=odeint(dX_dt,X_0,t)\n",
    "\n",
    "# pull solutions\n",
    "S = ans[:,0]\n",
    "I = ans[:,1]\n",
    "R = ans[:,2]\n",
    "N = ans[:,3]\n",
    "F = ans[:,4]\n",
    "\n",
    "# define potential infection force to humans\n",
    "lambda_H = F*np.exp(-a*(S+I+R))"
   ]
  },
  {
   "cell_type": "code",
   "execution_count": 6,
   "metadata": {},
   "outputs": [
    {
     "data": {
      "image/png": "[encoded data removed]",
      "text/plain": [
       "<Figure size 432x288 with 1 Axes>"
      ]
     },
     "metadata": {
      "needs_background": "light"
     },
     "output_type": "display_data"
    }
   ],
   "source": [
    "# Plots # \n",
    "\n",
    "plt.plot(t, I, label='I')\n",
    "plt.plot(t, lambda_H, '--', label='$\\lambda_H$')\n",
    "plt.title('Reproduction of Figure 2b from paper')\n",
    "plt.yscale('log')\n",
    "plt.legend()\n",
    "plt.show()"
   ]
  },
  {
   "cell_type": "code",
   "execution_count": null,
   "metadata": {},
   "outputs": [],
   "source": []
  },
  {
   "cell_type": "code",
   "execution_count": null,
   "metadata": {},
   "outputs": [],
   "source": []
  },
  {
   "cell_type": "code",
   "execution_count": null,
   "metadata": {},
   "outputs": [],
   "source": []
  }
 ],
 "metadata": {
  "kernelspec": {
   "display_name": "Python 3",
   "language": "python",
   "name": "python3"
  },
  "language_info": {
   "codemirror_mode": {
    "name": "ipython",
    "version": 3
   },
   "file_extension": ".py",
   "mimetype": "text/x-python",
   "name": "python",
   "nbconvert_exporter": "python",
   "pygments_lexer": "ipython3",
   "version": "3.7.6"
  }
 },
 "nbformat": 4,
 "nbformat_minor": 4
}
