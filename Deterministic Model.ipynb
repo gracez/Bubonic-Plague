{
 "cells": [
  {
   "cell_type": "code",
   "execution_count": 2,
   "metadata": {},
   "outputs": [],
   "source": [
    "import numpy as np\n",
    "import matplotlib.pyplot as plt\n",
    "from scipy.integrate import odeint"
   ]
  },
  {
   "cell_type": "code",
   "execution_count": null,
   "metadata": {},
   "outputs": [],
   "source": [
    "# The Model #\n",
    "\n",
    "def dX_dt(X,t):\n",
    "    \n",
    "    S = X[0]\n",
    "    I = X[1]\n",
    "    R = X[2]\n",
    "    N = X[3]\n",
    "    F = X[4]\n",
    "    \n",
    "    dS = \n",
    "    \n",
    "    return [-beta*X[0]*X[1]/N - tau*X[0] + alpha*X[2],\n",
    "           beta*X[0]*X[1]/N + tau*X[0] - gamma*X[1],\n",
    "           gamma*X[1] - alpha*X[2]]"
   ]
  },
  {
   "cell_type": "code",
   "execution_count": null,
   "metadata": {},
   "outputs": [],
   "source": [
    "# Parameters #"
   ]
  },
  {
   "cell_type": "code",
   "execution_count": null,
   "metadata": {},
   "outputs": [],
   "source": []
  }
 ],
 "metadata": {
  "kernelspec": {
   "display_name": "Python 3",
   "language": "python",
   "name": "python3"
  },
  "language_info": {
   "codemirror_mode": {
    "name": "ipython",
    "version": 3
   },
   "file_extension": ".py",
   "mimetype": "text/x-python",
   "name": "python",
   "nbconvert_exporter": "python",
   "pygments_lexer": "ipython3",
   "version": "3.7.6"
  }
 },
 "nbformat": 4,
 "nbformat_minor": 4
}
